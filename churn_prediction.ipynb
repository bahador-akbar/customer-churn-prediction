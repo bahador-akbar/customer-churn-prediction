import pandas as pd
import numpy as np
import matplotlib.pyplot as plt
import seaborn as sns
from sklearn.preprocessing import LabelEncoder
from sklearn.model_selection import train_test_split
from sklearn.linear_model import LogisticRegression
from sklearn.metrics import classification_report, confusion_matrix

# 2. بارگذاری داده
df = pd.read_csv("../data/telco_customer_churn.csv")

# 3. پیش‌پردازش داده
df = df.dropna()
le = LabelEncoder()
df['gender'] = le.fit_transform(df['gender'])
# ... سایر ستون‌های متنی

# 4. تحلیل اکتشافی
sns.heatmap(df.corr(), annot=True)
plt.title("Correlation Heatmap")
plt.savefig("../images/churn_heatmap.png")

# 5. ساخت مدل
X = df.drop(['Churn'], axis=1)
y = df['Churn'].map({'Yes': 1, 'No': 0})

X_train, X_test, y_train, y_test = train_test_split(X, y, test_size=0.2)
model = LogisticRegression(max_iter=1000)
model.fit(X_train, y_train)

# 6. ارزیابی مدل
y_pred = model.predict(X_test)
print(classification_report(y_test, y_pred))
sns.heatmap(confusion_matrix(y_test, y_pred), annot=True)
plt.title("Confusion Matrix")
plt.savefig("../images/confusion_matrix.png")